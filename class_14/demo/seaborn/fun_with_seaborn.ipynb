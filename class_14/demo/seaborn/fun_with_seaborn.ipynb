{
 "cells": [
  {
   "cell_type": "code",
   "execution_count": 1,
   "source": [
    "import matplotlib.pyplot as plt"
   ],
   "outputs": [],
   "metadata": {}
  },
  {
   "cell_type": "code",
   "execution_count": 3,
   "source": [
    "plt.figure()\n",
    "x1 = [2,4,30,45,60]\n",
    "x2 = [45,44,36,22,1]\n",
    "plt.plot(x1, label='Anakin Darkside Meter')\n",
    "plt.plot(x2, label='Younglings in Temple')\n",
    "plt.legend()\n",
    "plt.show()"
   ],
   "outputs": [
    {
     "output_type": "error",
     "ename": "SyntaxError",
     "evalue": "positional argument follows keyword argument (2298683398.py, line 4)",
     "traceback": [
      "\u001b[0;36m  File \u001b[0;32m\"/var/folders/3n/9qfbk1bn5ws8d52sl7_3jfgc0000gn/T/ipykernel_71669/2298683398.py\"\u001b[0;36m, line \u001b[0;32m4\u001b[0m\n\u001b[0;31m    plt.plot(x1, label='Anakin Darkside Meter', red)\u001b[0m\n\u001b[0m                                                   ^\u001b[0m\n\u001b[0;31mSyntaxError\u001b[0m\u001b[0;31m:\u001b[0m positional argument follows keyword argument\n"
     ]
    }
   ],
   "metadata": {}
  },
  {
   "cell_type": "code",
   "execution_count": null,
   "source": [],
   "outputs": [],
   "metadata": {}
  }
 ],
 "metadata": {
  "orig_nbformat": 4,
  "language_info": {
   "name": "python",
   "version": "3.9.5",
   "mimetype": "text/x-python",
   "codemirror_mode": {
    "name": "ipython",
    "version": 3
   },
   "pygments_lexer": "ipython3",
   "nbconvert_exporter": "python",
   "file_extension": ".py"
  },
  "kernelspec": {
   "name": "python3",
   "display_name": "Python 3.9.5 64-bit ('.venv': poetry)"
  },
  "interpreter": {
   "hash": "5794055389818407b03cd2a322e8fe13d9b50f18b4a3a3fa9732c28b69f3498e"
  }
 },
 "nbformat": 4,
 "nbformat_minor": 2
}