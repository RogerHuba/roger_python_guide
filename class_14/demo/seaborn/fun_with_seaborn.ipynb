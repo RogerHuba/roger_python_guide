{
 "cells": [
  {
   "cell_type": "code",
   "execution_count": 1,
   "metadata": {},
   "outputs": [],
   "source": [
    "import matplotlib.pyplot as plt"
   ]
  },
  {
   "cell_type": "code",
   "execution_count": null,
   "metadata": {},
   "outputs": [
    {
     "ename": "SyntaxError",
     "evalue": "positional argument follows keyword argument (2298683398.py, line 4)",
     "output_type": "error",
     "traceback": [
      "\u001b[0;36m  File \u001b[0;32m\"/var/folders/3n/9qfbk1bn5ws8d52sl7_3jfgc0000gn/T/ipykernel_71669/2298683398.py\"\u001b[0;36m, line \u001b[0;32m4\u001b[0m\n\u001b[0;31m    plt.plot(x1, label='Anakin Darkside Meter', red)\u001b[0m\n\u001b[0m                                                   ^\u001b[0m\n\u001b[0;31mSyntaxError\u001b[0m\u001b[0;31m:\u001b[0m positional argument follows keyword argument\n"
     ]
    }
   ],
   "source": [
    "def plot_some_lines():\n",
    "    plt.figure()\n",
    "    x1 = [2,4,30,45,60]\n",
    "    x2 = [45,44,36,22,1]\n",
    "    plt.plot(x1, label='Anakin Darkside Meter')\n",
    "    plt.plot(x2, label='Younglings in Temple')\n",
    "    plt.legend()\n",
    "    plt.show()\n",
    "\n",
    "plot_some_lines()"
   ]
  },
  {
   "cell_type": "code",
   "execution_count": null,
   "metadata": {},
   "outputs": [],
   "source": [
    "import seaborn as sns"
   ]
  },
  {
   "cell_type": "code",
   "execution_count": null,
   "metadata": {},
   "outputs": [],
   "source": [
    "plot_some_lines()"
   ]
  }
 ],
 "metadata": {
  "interpreter": {
   "hash": "5794055389818407b03cd2a322e8fe13d9b50f18b4a3a3fa9732c28b69f3498e"
  },
  "kernelspec": {
   "display_name": "Python 3.9.5 64-bit ('.venv': poetry)",
   "name": "python3"
  },
  "language_info": {
   "codemirror_mode": {
    "name": "ipython",
    "version": 3
   },
   "file_extension": ".py",
   "mimetype": "text/x-python",
   "name": "python",
   "nbconvert_exporter": "python",
   "pygments_lexer": "ipython3",
   "version": "3.9.5"
  },
  "orig_nbformat": 4
 },
 "nbformat": 4,
 "nbformat_minor": 2
}
